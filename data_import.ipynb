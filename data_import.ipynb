{
  "nbformat": 4,
  "nbformat_minor": 0,
  "metadata": {
    "colab": {
      "provenance": [],
      "authorship_tag": "ABX9TyNJTJvxLdeODWrmmAw/aC9a",
      "include_colab_link": true
    },
    "kernelspec": {
      "name": "python3",
      "display_name": "Python 3"
    },
    "language_info": {
      "name": "python"
    }
  },
  "cells": [
    {
      "cell_type": "markdown",
      "metadata": {
        "id": "view-in-github",
        "colab_type": "text"
      },
      "source": [
        "<a href=\"https://colab.research.google.com/github/FlaviaFigueir/sist_review/blob/main/data_import.ipynb\" target=\"_parent\"><img src=\"https://colab.research.google.com/assets/colab-badge.svg\" alt=\"Open In Colab\"/></a>"
      ]
    },
    {
      "cell_type": "markdown",
      "source": [
        "# Systematic Review of HIV and cardio...\n"
      ],
      "metadata": {
        "id": "Kn50-d-lz1x4"
      }
    },
    {
      "cell_type": "code",
      "source": [
        "# search pubmed for all articles from 1980 until the present, using the search terms hiv AND (cardiomyopathy OR myocarditis)\n"
      ],
      "metadata": {
        "id": "oAnSjrBNz-7N"
      },
      "execution_count": null,
      "outputs": []
    }
  ]
}